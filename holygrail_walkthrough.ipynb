{
 "cells": [
  {
   "cell_type": "markdown",
   "metadata": {},
   "source": [
    "# Import package and create helper variables"
   ]
  },
  {
   "cell_type": "code",
   "execution_count": 1,
   "metadata": {},
   "outputs": [],
   "source": [
    "import os\n",
    "import pandas as pd\n",
    "import numpy as np\n",
    "import re\n",
    "import dill\n",
    "from scipy.sparse import csr_matrix\n",
    "import random\n",
    "from pandas import Series\n",
    "import sklearn.cluster\n",
    "import Levenshtein\n",
    "from collections import OrderedDict, Counter\n",
    "\n",
    "from sklearn.decomposition import NMF\n",
    "from sklearn.preprocessing import Normalizer, MaxAbsScaler\n",
    "from sklearn.pipeline import make_pipeline\n",
    "from sklearn.neighbors import NearestNeighbors\n",
    "from sklearn.preprocessing import OneHotEncoder\n",
    "from sklearn.feature_extraction import DictVectorizer"
   ]
  },
  {
   "cell_type": "code",
   "execution_count": 129,
   "metadata": {},
   "outputs": [],
   "source": [
    "# Category names and ids under skincare-face\n",
    "cat_name = ['Treatments (Face)', 'Toners', 'Cleansers'\n",
    "            , 'Moisturizers', 'Masks', 'Eye Makeup Remover', 'Neck/Decollete Cream', 'Scrubs', 'Treatments (Eye)', ]\n",
    "cat_id = ['705', '702', '701', '707', '703', '708', '709', '704', '706']\n",
    "cat_dict = dict(zip(cat_id, cat_name))\n",
    "\n",
    "select_cols = ['pro_ids', 'ratings', 'repurchases', 'pkg_quals', 'prices'\n",
    "       ,'ingredients', 'brand_ids', 'users', 'reviews', 'lipies', 'age', 'eyes'\n",
    "       ,'skin_type', 'skin_tone', 'skin_undertone', 'hair_color', 'hair_type'\n",
    "       ,'hair_texture']\n",
    "\n",
    "colab_filt_cols = ['pro_ids', 'users', 'lipies']\n",
    "\n",
    "content_cols = ['names', 'pro_ids', 'ratings', 'repurchases', 'pkg_quals', 'prices', 'ingredients', 'brands']\n",
    "\n",
    "user_features = ['age', 'eyes', 'skin_type', 'skin_tone', 'skin_undertone'\n",
    "    , 'hair_color', 'hair_type', 'hair_texture']"
   ]
  },
  {
   "cell_type": "markdown",
   "metadata": {},
   "source": [
    "# Load clean dataset from previous steps"
   ]
  },
  {
   "cell_type": "code",
   "execution_count": null,
   "metadata": {},
   "outputs": [],
   "source": [
    "# load clean dataset\n",
    "df = dill.load(open('data/df_clean.pkd', 'rb'))\n",
    "df_cf = df[colab_filt_cols]"
   ]
  },
  {
   "cell_type": "code",
   "execution_count": null,
   "metadata": {},
   "outputs": [],
   "source": [
    "# create unique id for users\n",
    "users = df_cf['users'].unique()\n",
    "\n",
    "len(users)\n",
    "# 98840\n",
    "\n",
    "# create random sample of 98840, from range(98840) without replacement,\n",
    "random.seed(42)\n",
    "id = Series(random.sample(range(len(users)), len(users)))\n",
    "len(id.unique())\n",
    "\n",
    "# join unique users and their unique ids\n",
    "df_users = pd.DataFrame({'users': users, 'uid': id})\n",
    "\n",
    "# join uid to main df by 'users' column\n",
    "df_uid = pd.merge(df, df_users, on='users')\n",
    "\n",
    "# join uid to main df_cf by 'users' column\n",
    "df_cf_uid = pd.merge(df_cf, df_users, on='users')"
   ]
  },
  {
   "cell_type": "code",
   "execution_count": null,
   "metadata": {},
   "outputs": [],
   "source": [
    "# create new df of unique product contents\n",
    "df_content = df[content_cols]\n",
    "# drop duplicates\n",
    "df_content_uniq = df_content.drop_duplicates()\n",
    "# using .loc will turn pro_ids into index\n",
    "# df_content_uniq = df_content.loc[~df_content.pro_ids.duplicated(), :]\n",
    "df_content_uniq.shape\n",
    "# (5298, 8)\n",
    "# table of product id and names\n",
    "prod_df = df_content_uniq.copy()\n",
    "# dill.dump(prod_df, open('data/prod_df.pkd', 'wb'))"
   ]
  },
  {
   "cell_type": "code",
   "execution_count": 4,
   "metadata": {},
   "outputs": [],
   "source": [
    "prod_df = dill.load(open('data/prod_df.pkd', 'rb'))\n",
    "df_content_uniq = prod_df.copy()\n",
    "\n",
    "df_content_uniq['pro_ids'] = df_content_uniq['pro_ids'].astype('int64')\n",
    "df_content_uniq = df_content_uniq.set_index('pro_ids')"
   ]
  },
  {
   "cell_type": "markdown",
   "metadata": {},
   "source": [
    "# Ingredient texts preprocessing"
   ]
  },
  {
   "cell_type": "code",
   "execution_count": 94,
   "metadata": {},
   "outputs": [],
   "source": [
    "def rm_delimiters(ingr_row):\n",
    "    \"\"\"\n",
    "    split ingredients column into a list of string instead of strings\n",
    "    :param ingr_row: a string row (of dataframe) of ingredients\n",
    "    :return: list of (str) ingredients\n",
    "    \"\"\"\n",
    "    delim = [',', 'and', '\\.+', ':', '/', '\\s-+\\s', '\\*+', '\\[\\]', '\\a', '\\n', '\\t', '\\s\\s+', 'â¢', ';', '-+', '_+'\n",
    "        , 'active\\singredients', 'also\\scontains', 'rapid\\sactivation\\sgel', 'step\\s1', 'step\\s2', 'step\\s3'\n",
    "        , 'active\\singredient', 'inactive\\singredients', 'inactive\\singredient', 'other\\singredients'\n",
    "        , 'ingredients', 'ingredient', 'previous\\singredients', 'others', 'other']\n",
    "\n",
    "    return re.split('|'.join(delim), ingr_row.lower())\n",
    "\n",
    "\n",
    "def water_parse(ingr_list):\n",
    "    \"\"\"\n",
    "    find and keep ingredients with word 'water-binding'; the rest if it has the word 'water', just keep\n",
    "    'water'\n",
    "    :param ingr_list: list of string ingredients\n",
    "    :return: ingredients 'water' and 'water-binding'\n",
    "    \"\"\"\n",
    "    water = ['water' if ('water' in ingr and 'water-binding' not in ingr) else ingr for ingr in ingr_list]\n",
    "    return water\n",
    "\n",
    "def oil_parse(ingr_list):\n",
    "    \"\"\"\n",
    "    if ingredient has the word 'oil', just keep 'oil'; if ingredient is 'mineral oi', keep 'mineral oi'\n",
    "    :param ingr_list: list of string ingredients\n",
    "    :return: ingredients 'oil'\n",
    "    \"\"\"\n",
    "    oil = ['oil' if (' oil' in ingr and 'mineral oil' not in ingr) else ingr for ingr in ingr_list]\n",
    "    return oil\n",
    "\n",
    "\n",
    "def extract_parse(ingr_list):\n",
    "    \"\"\"\n",
    "    if ingredient has the word 'extract', just keep 'extract'\n",
    "    :param ingr_list: list of string ingredients\n",
    "    :return: ingredients 'extract'\n",
    "    \"\"\"\n",
    "    extract = ['extract' if ' extract' in ingr else ingr for ingr in ingr_list]\n",
    "    return extract\n"
   ]
  },
  {
   "cell_type": "code",
   "execution_count": 113,
   "metadata": {},
   "outputs": [],
   "source": [
    "# split ingredients column into a list of string instead of strings\n",
    "# turn lower case, strip leading and trailing spaces, remove empty lists\n",
    "df_content_uniq['ingredients_n'] = df_content_uniq['ingredients'].apply(lambda x: rm_delimiters(x))\\\n",
    "                    .apply(lambda x: list(filter(None, [i.lower().strip() for i in x])))\\\n",
    "                    .apply(lambda x: water_parse(x))\\\n",
    "                    .apply(lambda x: oil_parse(x))\\\n",
    "                    .apply(lambda x: extract_parse(x))\\\n",
    "                    .apply(lambda x: [word for word in x if len(word)>3])\n",
    "\n",
    "# list of ingredients of each product\n",
    "words = list(df_content_uniq.ingredients_n)"
   ]
  },
  {
   "cell_type": "code",
   "execution_count": 114,
   "metadata": {},
   "outputs": [
    {
     "data": {
      "text/plain": [
       "5298"
      ]
     },
     "execution_count": 114,
     "metadata": {},
     "output_type": "execute_result"
    }
   ],
   "source": [
    "len(words)"
   ]
  },
  {
   "cell_type": "code",
   "execution_count": 115,
   "metadata": {
    "scrolled": false
   },
   "outputs": [
    {
     "data": {
      "text/plain": [
       "'Water, Cyclopentasiloxane, Dimethicone, Polysilicone-11, Acetyl Glucosamine, Sodium Lactobionate, Morus Nigra (Mulberry) Root Extract, Yeast Extract, Serenoa Serrulata (Saw Palmetto) Fruit Extract, Triticum Vulgare (Wheat) Germ Extract, Vitis Vinifera (Grape) Fruit Extract, Scutellaria Baicalensis Extract, Castanea Sativa (Chestnut) Seed Extract, Camellia Sinensis (Green Tea) Leaf Extract, Hordeum Vulgare (Barley), Lavandula Angustifolia (Lavender), Amorphophallus Konjac Root Powder, Caffeine, Laminaria Saccharina Extract, Tocopheryl Acetate, Salvia Sclarea (Clary) Extract, Sodium Hyaluronate, Coriandrum Sativum (Coriander), Citrus Grandis (Grapefruit California), Cholesterol, Glycerin, Ethylhexylglycerin, Squalane, Polyethylene, Isopentyldiol, Phenyl Trimethicone, Isohexadecane, Polysorbate 20, Pantethine, Methyldihydrojasmonate, Acrylamide/Sodium Acryloyldimethyltaurate Copolymer, Ammonium Acryloyldimethyltaurate/Vp Copolymer, Polysorbate 80, Peg-8, Ethyl 2,2-Dimethylhydrocinnamal, Phospholipids, Palmitoyl Oligopeptide, Butylene Glycol, Magnesium Ascorbyl Phosphate, Glyceryl Polymethacrylate, Sodium Glycyrrhetinate, Nordihydroguaiaretic Acid, Chlorphenesin, Phenoxyethanol, Limonene, Linalool, Iron Oxides, Mica, Titanium Dioxide.'"
      ]
     },
     "execution_count": 115,
     "metadata": {},
     "output_type": "execute_result"
    }
   ],
   "source": [
    "df_content_uniq.loc[614,'ingredients']"
   ]
  },
  {
   "cell_type": "code",
   "execution_count": 116,
   "metadata": {
    "scrolled": true
   },
   "outputs": [
    {
     "data": {
      "text/plain": [
       "['water',\n",
       " 'cyclopentasiloxane',\n",
       " 'dimethicone',\n",
       " 'polysilicone',\n",
       " 'acetyl glucosamine',\n",
       " 'sodium lactobionate',\n",
       " 'extract',\n",
       " 'extract',\n",
       " 'extract',\n",
       " 'extract',\n",
       " 'extract',\n",
       " 'extract',\n",
       " 'extract',\n",
       " 'extract',\n",
       " 'hordeum vulgare (barley)',\n",
       " 'ula angustifolia (lavender)',\n",
       " 'amorphophallus konjac root powder',\n",
       " 'caffeine',\n",
       " 'extract',\n",
       " 'tocopheryl acetate',\n",
       " 'extract',\n",
       " 'sodium hyaluronate',\n",
       " 'cori',\n",
       " 'rum sativum (cori',\n",
       " 'citrus gr',\n",
       " 'is (grapefruit california)',\n",
       " 'cholesterol',\n",
       " 'glycerin',\n",
       " 'ethylhexylglycerin',\n",
       " 'squalane',\n",
       " 'polyethylene',\n",
       " 'isopentyldiol',\n",
       " 'phenyl trimethicone',\n",
       " 'isohexadecane',\n",
       " 'polysorbate 20',\n",
       " 'pantethine',\n",
       " 'methyldihydrojasmonate',\n",
       " 'acrylamide',\n",
       " 'sodium acryloyldimethyltaurate copolymer',\n",
       " 'ammonium acryloyldimethyltaurate',\n",
       " 'vp copolymer',\n",
       " 'polysorbate 80',\n",
       " 'ethyl 2',\n",
       " 'dimethylhydrocinnamal',\n",
       " 'phospholipids',\n",
       " 'palmitoyl oligopeptide',\n",
       " 'butylene glycol',\n",
       " 'magnesium ascorbyl phosphate',\n",
       " 'glyceryl polymethacrylate',\n",
       " 'sodium glycyrrhetinate',\n",
       " 'nordihydroguaiaretic acid',\n",
       " 'chlorphenesin',\n",
       " 'phenoxyethanol',\n",
       " 'limonene',\n",
       " 'linalool',\n",
       " 'iron oxides',\n",
       " 'mica',\n",
       " 'titanium dioxide']"
      ]
     },
     "execution_count": 116,
     "metadata": {},
     "output_type": "execute_result"
    }
   ],
   "source": [
    "words[3]"
   ]
  },
  {
   "cell_type": "code",
   "execution_count": 120,
   "metadata": {},
   "outputs": [
    {
     "name": "stdout",
     "output_type": "stream",
     "text": [
      "There are 9435 unique ingredients.\n"
     ]
    }
   ],
   "source": [
    "words_flat = [item for word in words for item in word]\n",
    "words_flat_uniq = list(OrderedDict.fromkeys(words_flat))\n",
    "print('There are {} unique ingredients.'.format(len(words_flat_uniq)))\n",
    "words_arr = np.asarray(words_flat_uniq) #So that indexing with a list will work"
   ]
  },
  {
   "cell_type": "code",
   "execution_count": 118,
   "metadata": {},
   "outputs": [
    {
     "data": {
      "text/plain": [
       "array(['polyquaternium', 'silica', 'water', ...,\n",
       "       'chondrus crispus powder', 'phenoxyethanol i71',\n",
       "       'extrait de luvure'], dtype='<U432')"
      ]
     },
     "execution_count": 118,
     "metadata": {},
     "output_type": "execute_result"
    }
   ],
   "source": [
    "# array of all unique ingredients\n",
    "words_arr"
   ]
  },
  {
   "cell_type": "code",
   "execution_count": null,
   "metadata": {},
   "outputs": [],
   "source": [
    "# create distance matrix with Levenshtein distance\n",
    "lev_similarity = -1*np.array([[Levenshtein.distance(w1,w2) for w1 in words_arr] for w2 in words_arr])\n",
    "\n",
    "# Use AP clustering\n",
    "affprop = sklearn.cluster.AffinityPropagation(affinity=\"precomputed\", damping=0.99)\n",
    "affprop.fit(lev_similarity)\n",
    "\n",
    "# the cluster label for each word\n",
    "affprop_labels = affprop.labels_\n",
    "\n",
    "# the index of the word that other words will cluster around\n",
    "affprop_clusters = affprop.cluster_centers_indices_"
   ]
  },
  {
   "cell_type": "markdown",
   "metadata": {},
   "source": [
    "Levenshtein distance (edit distance) is the minimum number of edits to turn one word into another."
   ]
  },
  {
   "cell_type": "code",
   "execution_count": 70,
   "metadata": {},
   "outputs": [
    {
     "name": "stdout",
     "output_type": "stream",
     "text": [
      "distance between 'retinol' and 'retinal': 1\n",
      "distance between 'retinol' and 'titanium dioxide': 13\n"
     ]
    }
   ],
   "source": [
    "print(\"distance between 'retinol' and 'retinal':\", Levenshtein.distance('retinol', 'retinal'))\n",
    "print(\"distance between 'retinol' and 'titanium dioxide':\", Levenshtein.distance('retinol', 'titanium dioxide'))"
   ]
  },
  {
   "cell_type": "markdown",
   "metadata": {},
   "source": [
    "Affinity Propagation is a clustering method that can be faster than KNN and doesnt require setting number of clusters beforehand. It it can be fed with a similarity matrix so it works well with Levenshtein distance."
   ]
  },
  {
   "cell_type": "code",
   "execution_count": 104,
   "metadata": {},
   "outputs": [
    {
     "name": "stdout",
     "output_type": "stream",
     "text": [
      "There are 261 clusters for ingredients\n"
     ]
    }
   ],
   "source": [
    "# dill.dump(affprop_labels, open('data/affprop_labels.pkd', 'wb'))\n",
    "# dill.dump(affprop_clusters, open('data/affprop_clusters.pkd', 'wb'))\n",
    "\n",
    "affprop_labels = dill.load(open('data/affprop_labels.pkd', 'rb'))\n",
    "affprop_clusters = dill.load(open('data/affprop_clusters.pkd', 'rb'))\n",
    "\n",
    "# there are 261 clusters for ingredients\n",
    "print('There are {} clusters for ingredients'.format(len(affprop_clusters)))"
   ]
  },
  {
   "cell_type": "code",
   "execution_count": 110,
   "metadata": {
    "scrolled": true
   },
   "outputs": [
    {
     "name": "stdout",
     "output_type": "stream",
     "text": [
      "Exemplar word: titanium dioxide \n",
      "\n",
      "Other words in this cluster: \"titanium dioxide\", 0 zinc oxide, 01 (antioxidant, 10% zinc oxide, 15% titanium dioxide, 20 itaconate copolymer, 3% zinc oxide, 45 alkyl dimethicone, 5 benzoyl peroxide, 5% benzoyl peroxide, 6% zinc oxide 3, 77492)titanium oxide, agar agar decoction, aluminium oxide, aluminum oxide, amino acid complex, anthemis nobius (chamomile), astaxanthin (bioastin®), behenoxy dimethicone, behentrimonium chloride, bensalkonium chloride, benzalkonium chloride, benzethonium chloride, benzlkonium chloride, benzoyl perioxide, benzoyl peroxide, beta glucan (antioxidant), bisabolol (antioxidant, bismuth oxychloride, calcium chloride, centrimonium bromide, cetrimonium bromide, cetrimonium chloride, cetyl triethylmonium dimethicone, cetyl triethylmonium dimethicone peg, chitosan succinamide, chromium oxide, chromium oxide greens, ci 77491 (iron oxide red), ci 77491 (iron oxides), ci 77492 (iron oxide), ci 77891 (titanium dioxide), ci 77947 (zinc oxide), cinnamomum cassia, citral (natural additive), citrus aurantium (petitgrain), citrus aurantium amara, citrus aurantium dulcis, citrus aurantium dulcis (orange), citrus aurantium dulcis (orange) fruit e, citrus bioflavonoids, citrus medica limonum, citrus nobilis, cl 77891 (titanium dioxide, cl 77891 (titanium dioxide), classic us version, cucurbita pepo (pumpkin) juice, dequalinium chloride, deuterium oxide (d20, dimonium chloride, disteardimonium hectorite, disteardimoniumhectorite, distearomonium hectorite, edentate disodium, edetate disodium, epilobium angustifolium, fab antioxidant booster, geranium extact, helichrysum hydrosol, histidine hydrochloride, hydrogen peroxide, hydrogen peroxyde, iflorum seed butter, iron dioxide, iron oxide, iron oxides, lauramide oxide, manganese dioxide, mannitol disodium, mica (ci 778019), mineral oil (paraffinum liquidum), mineral oil (paraffinum liquidum)? peg, myrtrimonium bromide, nephrite powder, nicotinamideadenine dinucleotide, no animal testing, organic aloe juice#, organic chamomile, organic chamomile1, organic chamomille, organic citrus aurantium dulcis, organic german chamomile, organic lavender1, organic rice powder, organic witch hazel, origanium majorana, paraffinium liquidium, paraffinium liquidum, paraffinum liqidum, paraffinum liquidum, paraffinum loquidum, platinum powder, potassium hydroxide, potassium hydroxide), punica granatum fruit juice, rum sativum (cori, sesamum indicum, silicon dioxide, silt (hungarian mud), silver oxide, sinensis flower, stearakonium hectorite, stearalkonium hectorite, steartrimonium bromide, tamarindus indica seed polysaccharide, the german version, the pannon complex, thiamine nitrate, titainum dioxide (ci 77891), titanium dioxid, titanium dioxide, titanium dioxide (2, titanium dioxide (3, titanium dioxide (3%), titanium dioxide (5%), titanium dioxide (77891), titanium dioxide (c177891), titanium dioxide (ci, titanium dioxide (ci 778891), titanium dioxide (ci 7789), titanium dioxide (ci 77891), titanium dioxide (ci 77891) 6, titanium dioxide (ci 77891) [iln6489], titanium dioxide (ci 77891) original 1995, titanium dioxide (ci 77891)2001, titanium dioxide (ci77891), titanium dioxide (cl 77891), titanium dioxide (colour), titanium dioxide (mineral pigments), titanium dioxide (opacifying agent), titanium dioxide (sunscreen), titanium dioxide 1, titanium dioxide 10%, titanium dioxide 12%, titanium dioxide 2, titanium dioxide 3, titanium dioxide 5, titanium dioxide 8, titanium dioxide 8%, titanium dioxide acrylates, titanium dioxide ci 77891, titanium dioxide  ci 19140, titanium dioxide5, titanium dioxideci 77891, titanium dioxyde, titanium doxide, triethanolamine (ph adjusters), trioxaundecanedioic acid, ula angustifolia, ula angustifolia), ula augustifolia), urtica dioica, vetiveria zizanoides, vitamin b5 amino, vitamin e (tochopherol), vitamin k ( phytonadione ), w) acne medication, withania somnifera, xanthan gum (binding agent, xanthan gum (polysaccharide gum), xanthan gum (sugar), xanthan gum (thickener), xanthan gum (thickeners, xanthan gum (viscosity modifier)\n"
     ]
    }
   ],
   "source": [
    "# create dictionary of unique ingredients and their cluster number/index\n",
    "ingred_labels = dict(zip(words_flat_uniq, affprop_labels))\n",
    "\n",
    "for cluster_id in np.unique(affprop_labels[5]):\n",
    "    exemplar = words_arr[affprop_clusters[cluster_id]]\n",
    "    cluster = np.unique(words_arr[np.nonzero(affprop_labels == cluster_id)])\n",
    "    cluster_str = \", \".join(cluster)\n",
    "    print('Exemplar word:', exemplar, '\\n')\n",
    "    print('Other words in this cluster:', cluster_str)"
   ]
  },
  {
   "cell_type": "markdown",
   "metadata": {},
   "source": [
    "# Creating features for content filtering"
   ]
  },
  {
   "cell_type": "code",
   "execution_count": 121,
   "metadata": {},
   "outputs": [],
   "source": [
    "### onehot encoding for ingredient groups\n",
    "one_hot_transformer = OneHotEncoder(sparse=False)\n",
    "\n",
    "# map ingredients into groups and make into dictionary\n",
    "df_content_uniq['words_mapped'] = df_content_uniq['ingredients_n'].apply(lambda x: [ingred_labels[ingredient] for ingredient in x])\\\n",
    "                                                                .apply(lambda x: np.unique(x))\\\n",
    "                                                                .apply(lambda x: Counter(x))\n",
    "# vectorize ingredient groups\n",
    "dict_vec = DictVectorizer(sparse=False)\n",
    "ingred_ohe = dict_vec.fit_transform(df_content_uniq['words_mapped'])\n",
    "\n",
    "\n",
    "### add other information about products\n",
    "ingred_features = np.hstack([ingred_ohe, df_content_uniq[['ratings', 'repurchases', 'pkg_quals', 'prices']]])\n",
    "\n",
    "### fit knn to identify products that are similar\n",
    "ingred_nn = NearestNeighbors(n_neighbors=11).fit(ingred_features)\n",
    "\n",
    "# use dill to save nearest neighbor model\n",
    "# dill.dump(ingred_nn, open('data/nn_ingred.pkd', 'wb'))\n",
    "ingred_nn = dill.load(open('data/nn_ingred.pkd', 'rb'))\n",
    "\n",
    "\n",
    "# ohe matrix to find nn products\n",
    "cbf_matrix = pd.DataFrame(ingred_features).set_index(df_content_uniq['names'])\n",
    "# dill.dump(cbf_matrix, open('data/cbf_matrix.pkd', 'wb'))\n",
    "cbf_matrix = dill.load(open('data/cbf_matrix.pkd', 'rb'))"
   ]
  },
  {
   "cell_type": "code",
   "execution_count": 122,
   "metadata": {},
   "outputs": [
    {
     "name": "stdout",
     "output_type": "stream",
     "text": [
      "                                                  names pro_ids  ratings  \\\n",
      "0                   BiorÃ© Pore Cleansing Strips - Nose    1824      3.1   \n",
      "1693            BiorÃ© Ultra Deep Cleansing Pore Strips   29424      3.7   \n",
      "294        Trader Joe's Spa Face Wash with Tea Tree Oil  144660      3.5   \n",
      "0     Desert Essence Thoroughly Clean Face Wash with...   35843      3.6   \n",
      "42                            Mario Badescu aloe lotion   24573      3.6   \n",
      "251                         Karin Herzog oxygen face 2%     772      3.2   \n",
      "370                     Mario Badescu Honey moisturizer    7380      3.5   \n",
      "2841                      Neutrogena Alcohol-Free Toner   22869      3.6   \n",
      "155                  The Original Skin Store--Acne Stop   83201      3.7   \n",
      "2166   Neutrogena Clear Pore Oil-Eliminating Astringent   12339      3.5   \n",
      "469               Avon Anew Vitamin C Brightening Serum    4908      3.6   \n",
      "\n",
      "      repurchases  pkg_quals  prices  \\\n",
      "0            0.56        3.4       2   \n",
      "1693         0.73        3.9       3   \n",
      "294          0.61        3.6       2   \n",
      "0            0.65        3.3       2   \n",
      "42           0.33        3.7       2   \n",
      "251          0.58        3.2       3   \n",
      "370          0.51        3.5       2   \n",
      "2841         0.64        3.6       2   \n",
      "155          0.67        3.2       1   \n",
      "2166         0.63        3.9       2   \n",
      "469          0.63        3.8       2   \n",
      "\n",
      "                                            ingredients          brands  \n",
      "0     Polyquaternium-37, Silica, Water, Glycerin, PE...          BiorÃ©  \n",
      "1693  Polyquaternium 37, Silica, Water, Glycerin, PE...          BiorÃ©  \n",
      "294   Castille Soap (water, coconut] oil, tall oil, ...    Trader Joe's  \n",
      "0     Castile Soap (Water (Aqua), Cocos Nucifera (Co...  Desert Essence  \n",
      "42    Ingredients: Deionized Water,Propylene Glycol,...   Mario Badescu  \n",
      "251   Aqua, Paraffinum Liquidum, Glycerin, Stearyl A...    Karin Herzog  \n",
      "370   Stearic Acid, Peanut Oil,Glyceryl Stearate,Dei...   Mario Badescu  \n",
      "2841  Purified Water, PEG-4, Butylene Glycol, Polyso...      Neutrogena  \n",
      "155            ethyl alcohol, 10% salicylic, 5% lactic.  Unlisted Brand  \n",
      "2166  Active Ingredient: Salicylic Acid (2%). Inacti...      Neutrogena  \n",
      "469   SD Alcohol 40-B, Glycerin, Proplyene Glycol, A...            Avon  \n"
     ]
    }
   ],
   "source": [
    "# example\n",
    "# find 10 products similar to the test product\n",
    "# indices are indices of the 10 most similar products, not the actual product id\n",
    "ingred_dists, ingred_indices = ingred_nn.kneighbors(ingred_features[0].reshape(1, -1))\n",
    "\n",
    "# list of 10 products similar to test product, excluding the first one, which is the test product\n",
    "prod_list = prod_df.iloc[ingred_indices[0]]\n",
    "print(prod_list)"
   ]
  },
  {
   "cell_type": "markdown",
   "metadata": {},
   "source": [
    "# Collaborative filtering using ALS in Spark"
   ]
  },
  {
   "cell_type": "markdown",
   "metadata": {},
   "source": [
    "ALS (Alternating Least Square) is a matrix factorization technique to decompose an original matrix into two matrices so that when multiplying those two matrices together, they approximate the original matrix. By doing this, we would be able to get a score for an item that has not actually been scored."
   ]
  },
  {
   "cell_type": "markdown",
   "metadata": {},
   "source": [
    "![Matrix factorization](images/mf.png)"
   ]
  },
  {
   "cell_type": "code",
   "execution_count": null,
   "metadata": {},
   "outputs": [],
   "source": [
    "# ALS in Spark\n",
    "from pyspark import SparkContext\n",
    "from pyspark.sql import SQLContext\n",
    "from pyspark.sql import SparkSession\n",
    "from pyspark.ml.recommendation import ALS\n",
    "from pyspark.ml.evaluation import RegressionEvaluator\n",
    "from pyspark.ml.tuning import ParamGridBuilder, CrossValidator\n",
    "from datetime import datetime\n",
    "from lxml import etree\n",
    "import bz2\n",
    "import os\n",
    "\n",
    "\n",
    "# get current location for this main.py file, then add path to SE (StackExchange) files\n",
    "def localpath(path):\n",
    "    return 'file://' + str(os.path.abspath(os.path.curdir)) + '/' + path\n",
    "\n",
    "# initialize pyspark and sql\n",
    "sc = SparkContext(\"local[*]\", \"demo\")\n",
    "print(sc.version)\n",
    "\n",
    "sqlContext = SQLContext(sc)\n",
    "\n",
    "spark = SparkSession \\\n",
    "    .builder \\\n",
    "    .appName(\"Python Spark SQL basic example\") \\\n",
    "    .config(\"spark.some.config.option\", \"some-value\") \\\n",
    "    .getOrCreate()\n",
    "\n",
    "tot_df = spark.read.csv(\"df_cf.csv\",header=True, inferSchema=True)\n",
    "\n",
    "# Create ALS model\n",
    "als_cv = ALS(userCol=\"uid\", itemCol=\"pro_ids\", ratingCol=\"lipies\", nonnegative = True, implicitPrefs = False)\n",
    "# Confirm that a model called \"als\" was created\n",
    "type(als_cv)\n",
    "\n",
    "\n",
    "# Add hyperparameters and their respective values to param_grid\n",
    "# rank is the number of latent features\n",
    "# regparam: regularization lambda\n",
    "# coldstartstrategy: for train/test when all user's ratings are in the test set\n",
    "# so if train set doesnt have rating for that user, dont calculate the rmse\n",
    "param_grid = ParamGridBuilder() \\\n",
    "           .addGrid(als_cv.rank, [10, 20, 50]) \\\n",
    "           .addGrid(als_cv.regParam, [.05, .1, .15]) \\\n",
    "           .build()\n",
    "\n",
    "# Define evaluator as RMSE and print length of evaluator\n",
    "evaluator = RegressionEvaluator(metricName=\"rmse\", labelCol=\"lipies\", predictionCol=\"prediction\")\n",
    "print(\"Num models to be tested: \", len(param_grid))\n",
    "\n",
    "# Build cross validation using CrossValidaator\n",
    "cv = CrossValidator(estimator=als_cv, estimatorParamMaps=param_grid, evaluator=evaluator,numFolds=5)\n",
    "\n",
    "# Confirm cv was built\n",
    "print(cv)\n",
    "\n",
    "#Fit cross validator to the 'train' dataset\n",
    "model = cv.fit(tot_df)\n",
    "\n",
    "#Extract best model from the cv model above\n",
    "best_model = model.bestModel\n",
    "\n",
    "# Generate top 10 movie recommendations for each user\n",
    "userRecs = model.recommendForAllUsers(10)\n",
    "userRecs_pd = userRecs.toPandas()\n",
    "# need to convert to string for split below to work\n",
    "userRecs_pd['new_rec'] = userRecs_pd['recommendations'].apply(lambda x: [str(pair[0]) for pair in x])\n",
    "# create dataframe with rec columns\n",
    "userRecs_pd[['rec1', 'rec2', 'rec3', 'rec4', 'rec5', 'rec6', 'rec7', 'rec8', 'rec9', 'rec10']] = pd.DataFrame(userRecs_pd.new_rec.values.tolist(), index= userRecs_pd.index)\n",
    "userRecs_pd.drop(['recommendations', 'new_rec'], axis=1, inplace=True)\n",
    "# dill.dump(userRecs_pd, open('userRecs_pd.pkd', 'wb'))\n"
   ]
  },
  {
   "cell_type": "code",
   "execution_count": 126,
   "metadata": {},
   "outputs": [],
   "source": [
    "# load recommendation table by ALS\n",
    "df_als = dill.load(open('data/userRecs_pd.pkd', 'rb'))\n",
    "df_als.index = df_als['uid']"
   ]
  },
  {
   "cell_type": "markdown",
   "metadata": {},
   "source": [
    "# Address cold-start problem by finding similar existing users"
   ]
  },
  {
   "cell_type": "markdown",
   "metadata": {},
   "source": [
    "Users using the Holy Grail app will not have their historical product ratings known. So a solution to this is to find existing users with similar characteristics and their recommended products."
   ]
  },
  {
   "cell_type": "code",
   "execution_count": null,
   "metadata": {},
   "outputs": [],
   "source": [
    "### find users similar to current user by using their characteristics\n",
    "\n",
    "df_features = df_uid[user_features]\n",
    "# have to have uid in the df so when dropping dont drop users with same chars\n",
    "df_features['uid'] = df_uid['uid']\n",
    "df_features.index = df_uid['uid']\n",
    "\n",
    "# dataframe of unique users and their chars\n",
    "df_features = df_features.drop_duplicates()\n",
    "\n",
    "one_hot_transformer = OneHotEncoder(sparse=False)\n",
    "\n",
    "# one hot encoding of characteristics\n",
    "user_features_ohe = one_hot_transformer.fit_transform(df_features[user_features])\n",
    "\n",
    "# get feature names for each onehot encoder\n",
    "feat_names = one_hot_transformer.get_feature_names()\n",
    "for i, feat in enumerate(feat_names):\n",
    "    print(i, feat)\n",
    "\n",
    "# fit knn to identify users who are similar\n",
    "nn = NearestNeighbors(n_neighbors=10).fit(user_features_ohe)"
   ]
  },
  {
   "cell_type": "code",
   "execution_count": 145,
   "metadata": {},
   "outputs": [
    {
     "name": "stdout",
     "output_type": "stream",
     "text": [
      "There are 111820 unique users.\n"
     ]
    }
   ],
   "source": [
    "# dill.dump(df_features['uid'], open('data/df_features.pkd', 'wb'))\n",
    "df_features = dill.load(open('data/df_features.pkd', 'rb'))\n",
    "print('There are {} unique users.'.format(len(df_features)))\n",
    "\n",
    "# use dill to save nearest neighbor model\n",
    "# dill.dump(nn, open('data/nn_users.pkd', 'wb'))\n",
    "nn = dill.load(open('data/nn_users.pkd', 'rb'))"
   ]
  },
  {
   "cell_type": "code",
   "execution_count": 152,
   "metadata": {},
   "outputs": [],
   "source": [
    "# example\n",
    "# 19-24; blue eyes; acne-prone; dark skin tone; neutral undertone; brown; curly hair; \n",
    "u_test = np.array([0,1,0,0,0,0,0,0,0,1,0,0,0,0,0,0,1,0,0,0,0,0,0,0,0,1,0,0,0,0,0,0,0,0,0,1,0,0,0,0,1,0,0,0,0,0,1,0,0,0,0,0,0,0,1,0])\n",
    "# 19-24; black eyes; acne-prone; dark skin tone; neutral undertone; brown; curly hair; \n",
    "# u_test = np.array([0,1,0,0,0,0,0,0,1,0,0,0,0,0,0,0,1,0,0,0,0,0,0,0,0,1,0,0,0,0,0,0,0,0,0,1,0,0,0,0,1,0,0,0,0,0,1,0,0,0,0,0,0,0,1,0])\n",
    "\n",
    "# find 10 users similar to the test user\n",
    "# indices are indices of the 10 most similar users, not the actual uid\n",
    "# dists, indices = nn.kneighbors(user_features_ohe[0].reshape(1, -1))\n",
    "dists, indices = nn.kneighbors(u_test.reshape(1, -1))\n",
    "\n",
    "# list of users similar to our test user\n",
    "user_list = df_features.iloc[indices[0]]"
   ]
  },
  {
   "cell_type": "code",
   "execution_count": 153,
   "metadata": {
    "scrolled": true
   },
   "outputs": [
    {
     "data": {
      "text/html": [
       "<div>\n",
       "<style scoped>\n",
       "    .dataframe tbody tr th:only-of-type {\n",
       "        vertical-align: middle;\n",
       "    }\n",
       "\n",
       "    .dataframe tbody tr th {\n",
       "        vertical-align: top;\n",
       "    }\n",
       "\n",
       "    .dataframe thead th {\n",
       "        text-align: right;\n",
       "    }\n",
       "</style>\n",
       "<table border=\"1\" class=\"dataframe\">\n",
       "  <thead>\n",
       "    <tr style=\"text-align: right;\">\n",
       "      <th></th>\n",
       "      <th>age</th>\n",
       "      <th>eyes</th>\n",
       "      <th>skin_type</th>\n",
       "      <th>skin_tone</th>\n",
       "      <th>skin_undertone</th>\n",
       "      <th>hair_color</th>\n",
       "      <th>hair_type</th>\n",
       "      <th>hair_texture</th>\n",
       "      <th>uid</th>\n",
       "    </tr>\n",
       "    <tr>\n",
       "      <th>uid</th>\n",
       "      <th></th>\n",
       "      <th></th>\n",
       "      <th></th>\n",
       "      <th></th>\n",
       "      <th></th>\n",
       "      <th></th>\n",
       "      <th></th>\n",
       "      <th></th>\n",
       "      <th></th>\n",
       "    </tr>\n",
       "  </thead>\n",
       "  <tbody>\n",
       "    <tr>\n",
       "      <th>43840</th>\n",
       "      <td>19-24</td>\n",
       "      <td>Hazel</td>\n",
       "      <td>Acne-prone</td>\n",
       "      <td>Fair-Medium</td>\n",
       "      <td>Neutral</td>\n",
       "      <td>Brown</td>\n",
       "      <td>Curly</td>\n",
       "      <td>Medium</td>\n",
       "      <td>43840</td>\n",
       "    </tr>\n",
       "    <tr>\n",
       "      <th>95738</th>\n",
       "      <td>19-24</td>\n",
       "      <td>Blue</td>\n",
       "      <td>Acne-prone</td>\n",
       "      <td>Fair</td>\n",
       "      <td>Cool</td>\n",
       "      <td>Brown</td>\n",
       "      <td>Curly</td>\n",
       "      <td>Medium</td>\n",
       "      <td>95738</td>\n",
       "    </tr>\n",
       "    <tr>\n",
       "      <th>49247</th>\n",
       "      <td>19-24</td>\n",
       "      <td>Blue</td>\n",
       "      <td>Acne-prone</td>\n",
       "      <td>Fair-Medium</td>\n",
       "      <td>Neutral</td>\n",
       "      <td>Blond</td>\n",
       "      <td>Curly</td>\n",
       "      <td>Medium</td>\n",
       "      <td>49247</td>\n",
       "    </tr>\n",
       "    <tr>\n",
       "      <th>3315</th>\n",
       "      <td>19-24</td>\n",
       "      <td>Brown</td>\n",
       "      <td>Acne-prone</td>\n",
       "      <td>Tan</td>\n",
       "      <td>Neutral</td>\n",
       "      <td>Brown</td>\n",
       "      <td>Curly</td>\n",
       "      <td>Medium</td>\n",
       "      <td>3315</td>\n",
       "    </tr>\n",
       "    <tr>\n",
       "      <th>70282</th>\n",
       "      <td>19-24</td>\n",
       "      <td>Blue</td>\n",
       "      <td>Acne-prone</td>\n",
       "      <td>Fair-Medium</td>\n",
       "      <td>Cool</td>\n",
       "      <td>Brown</td>\n",
       "      <td>Curly</td>\n",
       "      <td>Medium</td>\n",
       "      <td>70282</td>\n",
       "    </tr>\n",
       "    <tr>\n",
       "      <th>81016</th>\n",
       "      <td>19-24</td>\n",
       "      <td>Blue</td>\n",
       "      <td>Acne-prone</td>\n",
       "      <td>Fair</td>\n",
       "      <td>Neutral</td>\n",
       "      <td>Brown</td>\n",
       "      <td>Wavy</td>\n",
       "      <td>Medium</td>\n",
       "      <td>81016</td>\n",
       "    </tr>\n",
       "    <tr>\n",
       "      <th>15022</th>\n",
       "      <td>19-24</td>\n",
       "      <td>Blue</td>\n",
       "      <td>Sensitive</td>\n",
       "      <td>Fair</td>\n",
       "      <td>Neutral</td>\n",
       "      <td>Brown</td>\n",
       "      <td>Curly</td>\n",
       "      <td>Medium</td>\n",
       "      <td>15022</td>\n",
       "    </tr>\n",
       "    <tr>\n",
       "      <th>38650</th>\n",
       "      <td>19-24</td>\n",
       "      <td>Blue</td>\n",
       "      <td>Acne-prone</td>\n",
       "      <td>Fair</td>\n",
       "      <td>Neutral</td>\n",
       "      <td>Brunette</td>\n",
       "      <td>Curly</td>\n",
       "      <td>Medium</td>\n",
       "      <td>38650</td>\n",
       "    </tr>\n",
       "    <tr>\n",
       "      <th>35760</th>\n",
       "      <td>19-24</td>\n",
       "      <td>Blue</td>\n",
       "      <td>Acne-prone</td>\n",
       "      <td>Fair</td>\n",
       "      <td>Cool</td>\n",
       "      <td>Brown</td>\n",
       "      <td>Curly</td>\n",
       "      <td>Medium</td>\n",
       "      <td>35760</td>\n",
       "    </tr>\n",
       "    <tr>\n",
       "      <th>15753</th>\n",
       "      <td>19-24</td>\n",
       "      <td>Blue</td>\n",
       "      <td>Acne-prone</td>\n",
       "      <td>Fair-Medium</td>\n",
       "      <td>Neutral</td>\n",
       "      <td>Brown</td>\n",
       "      <td>Straight</td>\n",
       "      <td>Medium</td>\n",
       "      <td>15753</td>\n",
       "    </tr>\n",
       "  </tbody>\n",
       "</table>\n",
       "</div>"
      ],
      "text/plain": [
       "         age   eyes   skin_type    skin_tone skin_undertone hair_color  \\\n",
       "uid                                                                      \n",
       "43840  19-24  Hazel  Acne-prone  Fair-Medium        Neutral      Brown   \n",
       "95738  19-24   Blue  Acne-prone         Fair           Cool      Brown   \n",
       "49247  19-24   Blue  Acne-prone  Fair-Medium        Neutral      Blond   \n",
       "3315   19-24  Brown  Acne-prone          Tan        Neutral      Brown   \n",
       "70282  19-24   Blue  Acne-prone  Fair-Medium           Cool      Brown   \n",
       "81016  19-24   Blue  Acne-prone         Fair        Neutral      Brown   \n",
       "15022  19-24   Blue   Sensitive         Fair        Neutral      Brown   \n",
       "38650  19-24   Blue  Acne-prone         Fair        Neutral   Brunette   \n",
       "35760  19-24   Blue  Acne-prone         Fair           Cool      Brown   \n",
       "15753  19-24   Blue  Acne-prone  Fair-Medium        Neutral      Brown   \n",
       "\n",
       "      hair_type hair_texture    uid  \n",
       "uid                                  \n",
       "43840     Curly       Medium  43840  \n",
       "95738     Curly       Medium  95738  \n",
       "49247     Curly       Medium  49247  \n",
       "3315      Curly       Medium   3315  \n",
       "70282     Curly       Medium  70282  \n",
       "81016      Wavy       Medium  81016  \n",
       "15022     Curly       Medium  15022  \n",
       "38650     Curly       Medium  38650  \n",
       "35760     Curly       Medium  35760  \n",
       "15753  Straight       Medium  15753  "
      ]
     },
     "execution_count": 153,
     "metadata": {},
     "output_type": "execute_result"
    }
   ],
   "source": [
    "user_list"
   ]
  },
  {
   "cell_type": "code",
   "execution_count": 155,
   "metadata": {},
   "outputs": [],
   "source": [
    "# merge list of similar user with list of users' recommendations\n",
    "# rec is a list of product ids\n",
    "rec = pd.merge(user_list, df_als, left_on=user_list.index, right_on=df_als.index, how='left')[['uid_x', 'rec1']]\n",
    "\n",
    "prod_rec = pd.merge(rec, prod_df, left_on=rec.rec1, right_on=prod_df.pro_ids, how='left')\n",
    "\n",
    "prod_rec_dedup = prod_rec.drop(['key_0', 'uid_x', 'rec1'], axis=1).drop_duplicates()"
   ]
  },
  {
   "cell_type": "code",
   "execution_count": 156,
   "metadata": {},
   "outputs": [
    {
     "data": {
      "text/html": [
       "<div>\n",
       "<style scoped>\n",
       "    .dataframe tbody tr th:only-of-type {\n",
       "        vertical-align: middle;\n",
       "    }\n",
       "\n",
       "    .dataframe tbody tr th {\n",
       "        vertical-align: top;\n",
       "    }\n",
       "\n",
       "    .dataframe thead th {\n",
       "        text-align: right;\n",
       "    }\n",
       "</style>\n",
       "<table border=\"1\" class=\"dataframe\">\n",
       "  <thead>\n",
       "    <tr style=\"text-align: right;\">\n",
       "      <th></th>\n",
       "      <th>names</th>\n",
       "      <th>pro_ids</th>\n",
       "      <th>ratings</th>\n",
       "      <th>repurchases</th>\n",
       "      <th>pkg_quals</th>\n",
       "      <th>prices</th>\n",
       "      <th>ingredients</th>\n",
       "      <th>brands</th>\n",
       "    </tr>\n",
       "  </thead>\n",
       "  <tbody>\n",
       "    <tr>\n",
       "      <th>0</th>\n",
       "      <td>Ducray Keracnyl Creme Regulatrice</td>\n",
       "      <td>50891</td>\n",
       "      <td>4.4</td>\n",
       "      <td>0.90</td>\n",
       "      <td>4.3</td>\n",
       "      <td>3</td>\n",
       "      <td>WATER (AQUA), TRIETHYLHEXANOIN, GLYCOLIC ACID,...</td>\n",
       "      <td>Ducray</td>\n",
       "    </tr>\n",
       "    <tr>\n",
       "      <th>1</th>\n",
       "      <td>CeraVe Facial Moisturizing Lotion - AM SPF 30</td>\n",
       "      <td>133879</td>\n",
       "      <td>3.2</td>\n",
       "      <td>0.47</td>\n",
       "      <td>4.0</td>\n",
       "      <td>3</td>\n",
       "      <td>Active Ingredients:Homosalate 10, Meradimate 5...</td>\n",
       "      <td>CeraVe</td>\n",
       "    </tr>\n",
       "    <tr>\n",
       "      <th>2</th>\n",
       "      <td>Sulwhasoo Concentrated Ginseng Renewing Eye Cr...</td>\n",
       "      <td>173077</td>\n",
       "      <td>5.0</td>\n",
       "      <td>1.00</td>\n",
       "      <td>2.0</td>\n",
       "      <td>4</td>\n",
       "      <td>nan</td>\n",
       "      <td>Sulwhasoo</td>\n",
       "    </tr>\n",
       "    <tr>\n",
       "      <th>3</th>\n",
       "      <td>Erno Laszlo Ocu-pHel Emollient Eye Cream</td>\n",
       "      <td>62982</td>\n",
       "      <td>4.2</td>\n",
       "      <td>0.73</td>\n",
       "      <td>4.1</td>\n",
       "      <td>4</td>\n",
       "      <td>Aqua [Water], Cyclopentasiloxane, Cococaprylat...</td>\n",
       "      <td>Erno Laszlo</td>\n",
       "    </tr>\n",
       "    <tr>\n",
       "      <th>4</th>\n",
       "      <td>Coconut Hut Hawaiian Icing Whipped Sugar Scrub</td>\n",
       "      <td>68071</td>\n",
       "      <td>4.8</td>\n",
       "      <td>1.00</td>\n",
       "      <td>4.2</td>\n",
       "      <td>2</td>\n",
       "      <td>nan</td>\n",
       "      <td>Unlisted Brand</td>\n",
       "    </tr>\n",
       "    <tr>\n",
       "      <th>5</th>\n",
       "      <td>Polysporin</td>\n",
       "      <td>72274</td>\n",
       "      <td>4.5</td>\n",
       "      <td>0.90</td>\n",
       "      <td>4.0</td>\n",
       "      <td>2</td>\n",
       "      <td>Active Ingredients: Each grams contains: Bacit...</td>\n",
       "      <td>Unlisted Brand</td>\n",
       "    </tr>\n",
       "    <tr>\n",
       "      <th>6</th>\n",
       "      <td>ELEMIS Skin Buff</td>\n",
       "      <td>102843</td>\n",
       "      <td>4.6</td>\n",
       "      <td>0.86</td>\n",
       "      <td>4.3</td>\n",
       "      <td>4</td>\n",
       "      <td>nan</td>\n",
       "      <td>ELEMIS</td>\n",
       "    </tr>\n",
       "    <tr>\n",
       "      <th>7</th>\n",
       "      <td>Garden of Wisdom Manuka Honey</td>\n",
       "      <td>106411</td>\n",
       "      <td>4.7</td>\n",
       "      <td>0.90</td>\n",
       "      <td>3.6</td>\n",
       "      <td>3</td>\n",
       "      <td>Manuka Honey</td>\n",
       "      <td>Garden of Wisdom</td>\n",
       "    </tr>\n",
       "    <tr>\n",
       "      <th>9</th>\n",
       "      <td>Peter Thomas Roth Peter Thomas Roth FirmX Peel...</td>\n",
       "      <td>163055</td>\n",
       "      <td>4.1</td>\n",
       "      <td>0.72</td>\n",
       "      <td>4.1</td>\n",
       "      <td>3</td>\n",
       "      <td>Water, Polyethylene Glycol, Cellulose, Butylen...</td>\n",
       "      <td>Peter Thomas Roth</td>\n",
       "    </tr>\n",
       "  </tbody>\n",
       "</table>\n",
       "</div>"
      ],
      "text/plain": [
       "                                               names pro_ids  ratings  \\\n",
       "0                  Ducray Keracnyl Creme Regulatrice   50891      4.4   \n",
       "1      CeraVe Facial Moisturizing Lotion - AM SPF 30  133879      3.2   \n",
       "2  Sulwhasoo Concentrated Ginseng Renewing Eye Cr...  173077      5.0   \n",
       "3           Erno Laszlo Ocu-pHel Emollient Eye Cream   62982      4.2   \n",
       "4     Coconut Hut Hawaiian Icing Whipped Sugar Scrub   68071      4.8   \n",
       "5                                         Polysporin   72274      4.5   \n",
       "6                                   ELEMIS Skin Buff  102843      4.6   \n",
       "7                      Garden of Wisdom Manuka Honey  106411      4.7   \n",
       "9  Peter Thomas Roth Peter Thomas Roth FirmX Peel...  163055      4.1   \n",
       "\n",
       "   repurchases  pkg_quals  prices  \\\n",
       "0         0.90        4.3       3   \n",
       "1         0.47        4.0       3   \n",
       "2         1.00        2.0       4   \n",
       "3         0.73        4.1       4   \n",
       "4         1.00        4.2       2   \n",
       "5         0.90        4.0       2   \n",
       "6         0.86        4.3       4   \n",
       "7         0.90        3.6       3   \n",
       "9         0.72        4.1       3   \n",
       "\n",
       "                                         ingredients             brands  \n",
       "0  WATER (AQUA), TRIETHYLHEXANOIN, GLYCOLIC ACID,...             Ducray  \n",
       "1  Active Ingredients:Homosalate 10, Meradimate 5...             CeraVe  \n",
       "2                                                nan          Sulwhasoo  \n",
       "3  Aqua [Water], Cyclopentasiloxane, Cococaprylat...        Erno Laszlo  \n",
       "4                                                nan     Unlisted Brand  \n",
       "5  Active Ingredients: Each grams contains: Bacit...     Unlisted Brand  \n",
       "6                                                nan             ELEMIS  \n",
       "7                                       Manuka Honey   Garden of Wisdom  \n",
       "9  Water, Polyethylene Glycol, Cellulose, Butylen...  Peter Thomas Roth  "
      ]
     },
     "execution_count": 156,
     "metadata": {},
     "output_type": "execute_result"
    }
   ],
   "source": [
    "prod_rec_dedup"
   ]
  }
 ],
 "metadata": {
  "kernelspec": {
   "display_name": "Python 3",
   "language": "python",
   "name": "python3"
  },
  "language_info": {
   "codemirror_mode": {
    "name": "ipython",
    "version": 3
   },
   "file_extension": ".py",
   "mimetype": "text/x-python",
   "name": "python",
   "nbconvert_exporter": "python",
   "pygments_lexer": "ipython3",
   "version": "3.6.2"
  }
 },
 "nbformat": 4,
 "nbformat_minor": 2
}
